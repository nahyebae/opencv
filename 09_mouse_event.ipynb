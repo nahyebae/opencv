{
 "cells": [
  {
   "cell_type": "markdown",
   "metadata": {},
   "source": [
    "### 09. 마우스 이벤트"
   ]
  },
  {
   "cell_type": "code",
   "execution_count": 5,
   "metadata": {},
   "outputs": [],
   "source": [
    "import cv2\n",
    "\n",
    "img = cv2.imread(\"images/gom.jpg\")\n",
    "name = \"Mouse event\"\n",
    "cv2.namedWindow(name)\n",
    "\n",
    "def on_mouse(event, x, y, flags, _):\n",
    "    if event == cv2.EVENT_LBUTTONDOWN:\n",
    "        copied = img.copy() # 깊은 복사 클릭시 복사본 만들기\n",
    "        # copied = img # 얕은 복사 원본과 같은 메모리 사용\n",
    "        cv2.circle(copied, (x,y), 10, (100,100,200), cv2.FILLED)\n",
    "        cv2.imshow(name, copied)\n",
    "\n",
    "cv2.setMouseCallback(name, on_mouse)\n",
    "cv2.imshow(name, img)\n",
    "cv2.waitKey(0)\n",
    "cv2.destroyAllWindows()"
   ]
  }
 ],
 "metadata": {
  "kernelspec": {
   "display_name": "my_cv",
   "language": "python",
   "name": "python3"
  },
  "language_info": {
   "codemirror_mode": {
    "name": "ipython",
    "version": 3
   },
   "file_extension": ".py",
   "mimetype": "text/x-python",
   "name": "python",
   "nbconvert_exporter": "python",
   "pygments_lexer": "ipython3",
   "version": "3.12.0"
  }
 },
 "nbformat": 4,
 "nbformat_minor": 2
}
