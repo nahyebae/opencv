{
 "cells": [
  {
   "cell_type": "markdown",
   "metadata": {},
   "source": [
    "### 12. 윤곽선 검출\n",
    "- 경계선을 연결한 선\n",
    "- 흑백 이미지 -> 이진화 -> 윤곽선 찾기(findContours) -> 윤곽선 그리기(drawContours)"
   ]
  },
  {
   "cell_type": "markdown",
   "metadata": {},
   "source": [
    "### 12-1. 윤곽선 검출 기본"
   ]
  },
  {
   "cell_type": "code",
   "execution_count": 2,
   "metadata": {},
   "outputs": [],
   "source": [
    "import cv2\n",
    "\n",
    "MOUNTAIN = \"images/mountain.jpg\"\n",
    "KARINA = \"images/karina.jpg\"\n",
    "TARO = \"images/taroro.jpg\""
   ]
  },
  {
   "cell_type": "code",
   "execution_count": 14,
   "metadata": {},
   "outputs": [],
   "source": [
    "img = cv2.imread(KARINA)\n",
    "coppied = img.copy()\n",
    "coppied_2 = img.copy()\n",
    "\n",
    "# 그레이 스케일로 변환\n",
    "gray = cv2.cvtColor(coppied, cv2.COLOR_BGR2GRAY)\n",
    "\n",
    "# 이진화\n",
    "ret, binary = cv2.threshold(gray, -1, 255, cv2.THRESH_BINARY | cv2.THRESH_OTSU)\n",
    "\n",
    "# 윤곽선 찾기\n",
    "contours, hierachy = cv2.findContours(binary, cv2.RETR_LIST, cv2.CHAIN_APPROX_NONE)\n",
    "contours_2, hierachy_2 = cv2.findContours(binary, cv2.RETR_EXTERNAL, cv2.CHAIN_APPROX_NONE)\n",
    "\n",
    "# 윤곽선 그리기\n",
    "cv2.drawContours(coppied, contours, -1, (0,255,0), 2)\n",
    "cv2.drawContours(coppied_2, contours_2, -1, (0,255,0), 2)\n",
    "\n",
    "cv2.imshow(\"img\", img)\n",
    "cv2.imshow(\"contours1\", coppied)\n",
    "cv2.imshow(\"contours2\", coppied_2)\n",
    "\n",
    "cv2.waitKey(0)\n",
    "cv2.destroyAllWindows()"
   ]
  },
  {
   "cell_type": "markdown",
   "metadata": {},
   "source": [
    "### 12-2. Bounding Rect\n",
    "- 윤곽선을 둘러싼 사각형"
   ]
  },
  {
   "cell_type": "code",
   "execution_count": 20,
   "metadata": {},
   "outputs": [],
   "source": [
    "img = cv2.imread(KARINA)\n",
    "coppied = img.copy()\n",
    "\n",
    "gray = cv2.cvtColor(coppied, cv2.COLOR_BGR2GRAY)\n",
    "ret, binary = cv2.threshold(gray, -1, 255, cv2.THRESH_BINARY | cv2.THRESH_OTSU)\n",
    "\n",
    "# 윤곽선 찾기\n",
    "contours, hierachy = cv2.findContours(binary, cv2.RETR_EXTERNAL, cv2.CHAIN_APPROX_NONE)\n",
    "\n",
    "for contour in contours:\n",
    "   x, y, width, height = cv2.boundingRect(contour)\n",
    "   cv2.rectangle(coppied, (x,y), (x+width, y+height), (255,200,200), 2)\n",
    "\n",
    "# 윤곽선 그리기\n",
    "# cv2.drawContours(coppied, contours, -1, (0,255,0), 2)\n",
    "\n",
    "cv2.imshow(\"contours1\", coppied)\n",
    "\n",
    "cv2.waitKey(0)\n",
    "cv2.destroyAllWindows()"
   ]
  },
  {
   "cell_type": "markdown",
   "metadata": {},
   "source": [
    "### 실습3. 순서대로 박스 표시\n",
    "1. 인덱스 트랙바를 만들고\n",
    "2. 트랙바의 인덱스 값을 변경하면\n",
    "3. 생성된 박스가 순서대로 화면에 띄워지도록 구현"
   ]
  },
  {
   "cell_type": "code",
   "execution_count": 3,
   "metadata": {},
   "outputs": [],
   "source": [
    "import cv2\n",
    "\n",
    "img = cv2.imread(\"images/vehicles.png\")\n",
    "gray = cv2.cvtColor(img, cv2.COLOR_BGR2GRAY)\n",
    "name = \"box\"\n",
    "cv2.namedWindow(name)\n",
    "\n",
    "ret, binary = cv2.threshold(gray, -1, 255, cv2.THRESH_BINARY | cv2.THRESH_OTSU)\n",
    "contours, hierachy = cv2.findContours(binary, cv2.RETR_EXTERNAL, cv2.CHAIN_APPROX_NONE)\n",
    "\n",
    "cv2.createTrackbar(\"Index\", name, 0, len(contours)-1, lambda x:x)\n",
    "\n",
    "while True:\n",
    "   coppied = img.copy()\n",
    "\n",
    "   index = cv2.getTrackbarPos(\"Index\", name)\n",
    "\n",
    "   if index < len(contours):\n",
    "      x, y, width, height = cv2.boundingRect(contours[index])\n",
    "      cv2.rectangle(coppied, (x,y), (x+width, y+height), (0,220,255), 2)\n",
    "\n",
    "   cv2.imshow(name, coppied)\n",
    "\n",
    "   if cv2.waitKey(1) == ord(\"q\"):\n",
    "     break\n",
    "\n",
    "cv2.destroyAllWindows()"
   ]
  },
  {
   "cell_type": "code",
   "execution_count": 3,
   "metadata": {},
   "outputs": [],
   "source": [
    "import cv2\n",
    "\n",
    "img = cv2.imread(\"images/vehicles.png\")\n",
    "coppied = img.copy()\n",
    "name = \"Vehicles\"\n",
    "cv2.namedWindow(name)\n",
    "\n",
    "# 윤곽선을 찾고 : 그레이스케일 -> 이진화 -> findContours\n",
    "gray = cv2.cvtColor(coppied, cv2.COLOR_BGR2GRAY)\n",
    "ret, binary = cv2.threshold(gray, -1, 255, cv2.THRESH_BINARY | cv2.THRESH_OTSU)\n",
    "contours, hierachy = cv2.findContours(binary, cv2.RETR_EXTERNAL, cv2.CHAIN_APPROX_SIMPLE)\n",
    "# contours # 리스트 요소가 윤곽선 정보\n",
    "\n",
    "# 윤곽선의 인덱스를 선택해서 -> 트랙바 이용 -> while\n",
    "cv2.createTrackbar(\"Index\", name, 0, len(contours)-1, lambda x:x)\n",
    "\n",
    "while True:\n",
    "    target = img.copy()\n",
    "    index = cv2.getTrackbarPos(\"Index\", name)\n",
    "\n",
    "    # 해당 인덱스의 contour의 bounding rect를 추출하고 -> cv2.boundingRect\n",
    "    x, y, width, height = cv2.boundingRect(contours[index])\n",
    "\n",
    "# contours[i] -> rect\n",
    "# 화면에 사각형을 그린다 -> cv2.rectangle\n",
    "    cv2.rectangle(target, (x,y), (x+width, y+height), (0,220,255), 2)\n",
    "    cv2.imshow(name, target)\n",
    "\n",
    "    if cv2.waitKey(1) == ord(\"q\"):\n",
    "        break\n",
    "\n",
    "cv2.destroyAllWindows()"
   ]
  },
  {
   "cell_type": "markdown",
   "metadata": {},
   "source": [
    "### 12-3. contourArea\n",
    "- 윤곽선의 면적을 계산해줌"
   ]
  },
  {
   "cell_type": "code",
   "execution_count": 1,
   "metadata": {},
   "outputs": [],
   "source": [
    "import cv2\n",
    "\n",
    "img = cv2.imread(\"images/vehicles.png\")\n",
    "coppied = img.copy()\n",
    "name = \"Vehicles\"\n",
    "cv2.namedWindow(name)\n",
    "\n",
    "gray = cv2.cvtColor(coppied, cv2.COLOR_BGR2GRAY)\n",
    "ret, binary = cv2.threshold(gray, -1, 255, cv2.THRESH_BINARY | cv2.THRESH_OTSU)\n",
    "contours, hierachy = cv2.findContours(binary, cv2.RETR_EXTERNAL, cv2.CHAIN_APPROX_SIMPLE)\n",
    "\n",
    "# 윤곽선의 면적이 특정 크기 이상인 윤곽선을 새로운 리스트에 저장\n",
    "MIN_AREA = 1000\n",
    "filtered_contours = []\n",
    "for contour in contours:\n",
    "    if cv2.contourArea(contour) > MIN_AREA:\n",
    "        filtered_contours.append(contour)\n",
    "\n",
    "cv2.createTrackbar(\"Index\", name, 0, len(filtered_contours)-1, lambda x:x)\n",
    "\n",
    "while True:\n",
    "    target = img.copy()\n",
    "    index = cv2.getTrackbarPos(\"Index\", name)\n",
    "    # print(cv2.contourArea(contours))\n",
    "    x, y, width, height = cv2.boundingRect(filtered_contours[index])\n",
    "\n",
    "    cv2.rectangle(target, (x,y), (x+width, y+height), (0,220,255), 2)\n",
    "    cv2.imshow(name, target)\n",
    "\n",
    "    if cv2.waitKey(1) == ord(\"q\"):\n",
    "        break\n",
    "\n",
    "cv2.destroyAllWindows()"
   ]
  },
  {
   "cell_type": "markdown",
   "metadata": {},
   "source": [
    "### 실습 4. 카드 하나씩 새 창에 표시\n",
    "1. 제시된 이미지의 카드를\n",
    "2. 하나씩 별도로 새창에 표시하기"
   ]
  },
  {
   "cell_type": "code",
   "execution_count": 11,
   "metadata": {},
   "outputs": [],
   "source": [
    "import cv2\n",
    "\n",
    "img = cv2.imread(\"images/playing_cards.png\")\n",
    "\n",
    "# 복사본에 윤곽선 따기\n",
    "coppied = img.copy()\n",
    "gray = cv2.cvtColor(coppied, cv2.COLOR_BGR2GRAY)\n",
    "ret, binary = cv2.threshold(gray, -1, 255, cv2.THRESH_BINARY | cv2.THRESH_OTSU)\n",
    "contours, hierachy = cv2.findContours(binary, cv2.RETR_EXTERNAL, cv2.CHAIN_APPROX_SIMPLE)\n",
    "\n",
    "for i, contour in enumerate(contours):\n",
    "    if cv2.contourArea(contour) > 25000:\n",
    "        x, y, width, height = cv2.boundingRect(contour)\n",
    "        cv2.rectangle(coppied, (x,y), (x+width, y+height), (0,0,255), 2)\n",
    "    \n",
    "        # 카드 새창에 띄우기\n",
    "        cropped = img[y:y+height, x:x+width] # 이미지 크롭\n",
    "        cv2.imshow(f\"{i}\", cropped)\n",
    "\n",
    "cv2.imshow(\"contour\", coppied)\n",
    "cv2.waitKey(0)\n",
    "cv2.destroyAllWindows()\n"
   ]
  },
  {
   "cell_type": "code",
   "execution_count": 10,
   "metadata": {},
   "outputs": [],
   "source": [
    "import cv2\n",
    "\n",
    "img = cv2.imread(\"images/playing_cards.png\")\n",
    "# 복사본에 윤곽선 따기\n",
    "coppied = img.copy()\n",
    "gray = cv2.cvtColor(coppied, cv2.COLOR_BGR2GRAY)\n",
    "ret, binary = cv2.threshold(gray, -1, 255, cv2.THRESH_BINARY | cv2.THRESH_OTSU)\n",
    "contours, hierachy = cv2.findContours(binary, cv2.RETR_EXTERNAL, cv2.CHAIN_APPROX_SIMPLE)\n",
    "# cv2.drawContours(img, contours, -1, (0,255,0), 2)\n",
    "\n",
    "for idx, contour in enumerate(contours):\n",
    "    # print(cv2.contourArea(contour))\n",
    "    if cv2.contourArea(contour) > 25000:\n",
    "        x, y, width, height = cv2.boundingRect(contour)\n",
    "        cv2.rectangle(img, (x,y), (x+width, y+height), (0,255,0), 2)\n",
    "        crop = img[y:y+height, x:x+width]\n",
    "        crop = cv2.resize(crop, None, fx = 1.5, fy = 1.5)\n",
    "        cv2.imshow(f\"card {idx}\", crop)\n",
    "\n",
    "cv2.imshow(\"img\", img)\n",
    "cv2.waitKey(0)\n",
    "cv2.destroyAllWindows()"
   ]
  }
 ],
 "metadata": {
  "kernelspec": {
   "display_name": "my_cv",
   "language": "python",
   "name": "python3"
  },
  "language_info": {
   "codemirror_mode": {
    "name": "ipython",
    "version": 3
   },
   "file_extension": ".py",
   "mimetype": "text/x-python",
   "name": "python",
   "nbconvert_exporter": "python",
   "pygments_lexer": "ipython3",
   "version": "3.12.0"
  }
 },
 "nbformat": 4,
 "nbformat_minor": 2
}
