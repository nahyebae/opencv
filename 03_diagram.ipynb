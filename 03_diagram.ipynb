{
 "cells": [
  {
   "cell_type": "markdown",
   "metadata": {},
   "source": [
    "### 03. 도형 그리기"
   ]
  },
  {
   "cell_type": "code",
   "execution_count": 2,
   "metadata": {},
   "outputs": [],
   "source": [
    "import cv2\n",
    "import numpy as np"
   ]
  },
  {
   "cell_type": "markdown",
   "metadata": {},
   "source": [
    "### 3-1. 빈화면 만들기"
   ]
  },
  {
   "cell_type": "code",
   "execution_count": 7,
   "metadata": {},
   "outputs": [],
   "source": [
    "img = np.zeros((460, 640, 3), dtype = np.uint8)\n",
    "img[:] = (255, 255, 255) # 흰 배경 만들기\n",
    "# int : -128 ~ 127 vs uint 0 ~ 255\n",
    "cv2.imshow(\"blank\", img)\n",
    "cv2.waitKey(0)\n",
    "cv2.destroyAllWindows()"
   ]
  },
  {
   "cell_type": "markdown",
   "metadata": {},
   "source": [
    "### 3-2. 일부 영역 색칠"
   ]
  },
  {
   "cell_type": "code",
   "execution_count": 16,
   "metadata": {},
   "outputs": [],
   "source": [
    "img = np.zeros((460, 640, 3), dtype = np.uint8)\n",
    "img[100:200,100:200] = (255, 255, 220) # 흰 배경 만들기\n",
    "# int : -128 ~ 127 vs uint 0 ~ 255\n",
    "cv2.imshow(\"blank\", img)\n",
    "cv2.waitKey(0)\n",
    "cv2.destroyAllWindows()"
   ]
  },
  {
   "cell_type": "markdown",
   "metadata": {},
   "source": [
    "### 3-3. 선 그리기"
   ]
  },
  {
   "cell_type": "code",
   "execution_count": 22,
   "metadata": {},
   "outputs": [],
   "source": [
    "img = np.zeros((460, 640, 3), dtype = np.uint8)\n",
    "\n",
    "COLOR = (255,255,255)\n",
    "THICKNESS = 10\n",
    "\n",
    "cv2.line(img, (50,100), (400,50), (0,0,255), 5, cv2.LINE_4)\n",
    "cv2.line(img, (50,200), (400,150), (0,255,0), 5, cv2.LINE_8)\n",
    "cv2.line(img, (50,300), (400,250), (255,255,200), 5, cv2.LINE_AA)\n",
    "\n",
    "cv2.imshow(\"Line\", img)\n",
    "cv2.waitKey(0)\n",
    "cv2.destroyAllWindows()"
   ]
  },
  {
   "cell_type": "markdown",
   "metadata": {},
   "source": [
    "### 3-4. 원 그리기"
   ]
  },
  {
   "cell_type": "code",
   "execution_count": 25,
   "metadata": {},
   "outputs": [],
   "source": [
    "img = np.zeros((460, 640, 3), dtype = np.uint8)\n",
    "\n",
    "RADIUS = 50\n",
    "COLOR = (255, 0, 0)\n",
    "THICKNESS = 10\n",
    "\n",
    "# 속이 비어있는 원\n",
    "cv2.circle(img, (200,300), RADIUS, COLOR, THICKNESS, cv2.LINE_AA)\n",
    "\n",
    "# 속이 찬 원\n",
    "cv2.circle(img, (400,300), RADIUS, COLOR, cv2.FILLED, cv2.LINE_AA)\n",
    "\n",
    "cv2.imshow(\"circle\", img)\n",
    "cv2.waitKey(0)\n",
    "cv2.destroyAllWindows()"
   ]
  },
  {
   "cell_type": "markdown",
   "metadata": {},
   "source": [
    "### 3-5. 타원 그리기"
   ]
  },
  {
   "cell_type": "code",
   "execution_count": 31,
   "metadata": {},
   "outputs": [],
   "source": [
    "img = np.zeros((460, 640, 3), dtype = np.uint8)\n",
    "\n",
    "cv2.ellipse(img, (300,200), (100,50), 90, 0, 270, (0,0,255), 5, cv2.LINE_AA)\n",
    "cv2.imshow(\"ellipse\", img)\n",
    "cv2.waitKey(0)\n",
    "cv2.destroyAllWindows()"
   ]
  },
  {
   "cell_type": "markdown",
   "metadata": {},
   "source": [
    "### 3-6. 사각형 그리기"
   ]
  },
  {
   "cell_type": "code",
   "execution_count": 36,
   "metadata": {},
   "outputs": [],
   "source": [
    "img = np.zeros((460, 640, 3), dtype = np.uint8)\n",
    "\n",
    "cv2.rectangle(img, (50,50), (250,250), (255,255,200), 10, cv2.LINE_AA)\n",
    "cv2.rectangle(img, (260,50), (460,250), (255,255,200), cv2.FILLED, cv2.LINE_AA)\n",
    "cv2.imshow(\"rectangle\", img)\n",
    "cv2.waitKey(0)\n",
    "cv2.destroyAllWindows()"
   ]
  },
  {
   "cell_type": "markdown",
   "metadata": {},
   "source": [
    "### 3-7. 다각형(선)"
   ]
  },
  {
   "cell_type": "code",
   "execution_count": 42,
   "metadata": {},
   "outputs": [],
   "source": [
    "img = np.zeros((460, 640, 3), dtype = np.uint8)\n",
    "\n",
    "pts = np.array([[[100,100],[200,100],[100,200]]])\n",
    "\n",
    "cv2.polylines(img, pts, True, (255,0,255), 5 )\n",
    "cv2.imshow(\"polylines\", img)\n",
    "cv2.waitKey(0)\n",
    "cv2.destroyAllWindows()"
   ]
  },
  {
   "cell_type": "markdown",
   "metadata": {},
   "source": [
    "### 3-8. 다격형(채우기)\n",
    "- 닫는 여부 x, 선 두께 필요 x"
   ]
  },
  {
   "cell_type": "code",
   "execution_count": 41,
   "metadata": {},
   "outputs": [],
   "source": [
    "img = np.zeros((460, 640, 3), dtype = np.uint8)\n",
    "\n",
    "pts = np.array([[[100,100],[200,100],[100,200]]])\n",
    "\n",
    "cv2.fillPoly(img, pts, (255,0,255))\n",
    "cv2.imshow(\"polylines\", img)\n",
    "cv2.waitKey(0)\n",
    "cv2.destroyAllWindows()"
   ]
  },
  {
   "cell_type": "markdown",
   "metadata": {},
   "source": [
    "실습 1"
   ]
  },
  {
   "cell_type": "code",
   "execution_count": 84,
   "metadata": {},
   "outputs": [],
   "source": [
    "img = np.zeros((640, 480, 3), dtype = np.uint8)\n",
    "pts1 = np.array([[[250,400],[400,450],[400,400]]])\n",
    "pts2 = np.array([[[50,350],[200,450],[180,300]]])\n",
    "\n",
    "cv2.line(img, (50,100), (100,150), (240,174,128), cv2.LINE_AA)\n",
    "cv2.circle(img, (200,200), 50, (255,255,200),cv2.FILLED)\n",
    "cv2.ellipse(img, (100,500), (100,50), 0, 0, 360, (135,40,217), cv2.FILLED, cv2.LINE_AA)\n",
    "cv2.rectangle(img, (250,250), (350,350), (200, 230, 130), cv2.FILLED, cv2.LINE_AA)\n",
    "cv2.polylines(img, pts1, True, (255,180,255), 5)\n",
    "cv2.fillPoly(img, pts2, (119,145,127))\n",
    "\n",
    "cv2.imshow(\"shape\", img)\n",
    "cv2.waitKey(0)\n",
    "cv2.destroyAllWindows()"
   ]
  },
  {
   "cell_type": "code",
   "execution_count": null,
   "metadata": {},
   "outputs": [],
   "source": []
  }
 ],
 "metadata": {
  "kernelspec": {
   "display_name": "my_cv",
   "language": "python",
   "name": "python3"
  },
  "language_info": {
   "codemirror_mode": {
    "name": "ipython",
    "version": 3
   },
   "file_extension": ".py",
   "mimetype": "text/x-python",
   "name": "python",
   "nbconvert_exporter": "python",
   "pygments_lexer": "ipython3",
   "version": "3.12.0"
  }
 },
 "nbformat": 4,
 "nbformat_minor": 2
}
