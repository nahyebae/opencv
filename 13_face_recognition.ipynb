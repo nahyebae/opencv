{
 "cells": [
  {
   "cell_type": "markdown",
   "metadata": {},
   "source": [
    "### 13. 얼굴 인식"
   ]
  },
  {
   "cell_type": "code",
   "execution_count": 6,
   "metadata": {},
   "outputs": [],
   "source": [
    "import cv2\n",
    "KARINA = \"images/karina.jpg\"\n",
    "AESPA = \"images/aespa.jpg\""
   ]
  },
  {
   "cell_type": "code",
   "execution_count": 8,
   "metadata": {},
   "outputs": [],
   "source": [
    "face_cascade = cv2.CascadeClassifier(\"cascade/haarcascade_frontalface_default.xml\")\n",
    "eye_cascade = cv2.CascadeClassifier(\"cascade/haarcascade_eye.xml\")\n",
    "\n",
    "frame = cv2.imread(AESPA)\n",
    "gray = cv2.cvtColor(frame, cv2.COLOR_BGR2GRAY)\n",
    "faces = face_cascade.detectMultiScale(gray, scaleFactor=1.1, minNeighbors=5, minSize=(20,20)) # minNeighbors 값을 키우면 얼굴 감지 정확도 up\n",
    "\n",
    "eyes = eye_cascade.detectMultiScale(gray, scaleFactor=1.1, minNeighbors=10, minSize=(20,20))\n",
    "\n",
    "if len(faces):\n",
    "    for face in faces:\n",
    "        x, y, w, h = face\n",
    "        cv2.rectangle(frame, (x,y), (x+w, y+h), (255,255,0), 4)\n",
    "\n",
    "if len(eyes):\n",
    "    for eye in eyes:\n",
    "        x, y, w, h = eye\n",
    "        cv2.rectangle(frame, (x,y), (x+w, y+h), (200,0,255), 3)\n",
    "\n",
    "cv2.imshow(\"img\", frame)\n",
    "cv2.waitKey(0)\n",
    "cv2.destroyAllWindows()"
   ]
  },
  {
   "cell_type": "markdown",
   "metadata": {},
   "source": [
    "### 실습. 영상 얼굴인식"
   ]
  },
  {
   "cell_type": "code",
   "execution_count": 19,
   "metadata": {},
   "outputs": [],
   "source": [
    "import cv2\n",
    "\n",
    "face_cascade = cv2.CascadeClassifier(\"cascade/haarcascade_frontalface_default.xml\")\n",
    "eye_cascade = cv2.CascadeClassifier(\"cascade/haarcascade_eye.xml\")\n",
    "\n",
    "video = cv2.VideoCapture(\"videos/girl.mp4\")\n",
    "fps = video.get(cv2.CAP_PROP_FPS)\n",
    "\n",
    "while video.isOpened():\n",
    "    ret, frame = video.read()\n",
    "\n",
    "    if not ret:\n",
    "        break\n",
    "    \n",
    "    coppied = frame.copy()\n",
    "    gray = cv2.cvtColor(coppied, cv2.COLOR_BGR2GRAY)\n",
    "\n",
    "    faces = face_cascade.detectMultiScale(gray, scaleFactor=1.1, minNeighbors=5, minSize=(20,20))\n",
    "    eyes = eye_cascade.detectMultiScale(gray, scaleFactor=1.1, minNeighbors=5, minSize=(20,20))\n",
    "\n",
    "    if len(faces):\n",
    "        for face in faces:\n",
    "            x, y, w, h = face\n",
    "            cv2.rectangle(coppied, (x,y), (x+w, y+h), (255,255,0), 4)\n",
    "\n",
    "    # for eye in eyes:\n",
    "    #     x, y, w, h = eye\n",
    "    #     cv2.rectangle(frame, (x,y), (w, h), (200,0,255), 3)\n",
    "\n",
    "    cv2.imshow(\"video\", coppied)\n",
    "\n",
    "    if cv2.waitKey(int(1000/fps)) == ord(\"q\"): # 프레임 한개당 초\n",
    "        break\n",
    "\n",
    "video.release()\n",
    "cv2.destroyAllWindows()"
   ]
  },
  {
   "cell_type": "markdown",
   "metadata": {},
   "source": [
    "### 실습 1. 캠화면 얼굴인식"
   ]
  },
  {
   "cell_type": "code",
   "execution_count": 5,
   "metadata": {},
   "outputs": [],
   "source": [
    "import cv2\n",
    "\n",
    "face_cascade = cv2.CascadeClassifier(\"cascade/haarcascade_frontalface_default.xml\")\n",
    "eye_cascade = cv2.CascadeClassifier(\"cascade/haarcascade_eye.xml\")\n",
    "\n",
    "cap = cv2.VideoCapture(0)\n",
    "\n",
    "if not cap.isOpened():\n",
    "    exit()\n",
    "\n",
    "while True:\n",
    "    ret, frame = cap.read()\n",
    "\n",
    "    if not ret:\n",
    "        break\n",
    "\n",
    "    coppied = frame.copy()\n",
    "    gray = cv2.cvtColor(coppied, cv2.COLOR_BGR2GRAY)\n",
    "    \n",
    "    faces = face_cascade.detectMultiScale(gray, scaleFactor=1.1, minNeighbors=5, minSize=(20,20))\n",
    "    faces, weights = face_cascade.detectMultiScale2(gray, scaleFactor=1.1, minNeighbors=5, minSize=(20, 20))\n",
    "    eyes = eye_cascade.detectMultiScale(gray, scaleFactor=1.1, minNeighbors=20)\n",
    "    objects2, weights2 = eye_cascade.detectMultiScale2(gray, scaleFactor=1.1, minNeighbors=5)\n",
    "\n",
    "    \n",
    "\n",
    "    if len(faces):\n",
    "        for (x,y,w,h), weight in zip(faces, weights):\n",
    "            cv2.rectangle(coppied, (x,y), (x+w, y+h), (0,255,0), 3)\n",
    "            cv2.putText(coppied, f\"face: {weights}\", (x,y), cv2.FONT_HERSHEY_PLAIN, 1, (255,255,255), 1)\n",
    "\n",
    "    # if len(faces):\n",
    "    #     for i, face in enumerate(faces):\n",
    "    #         x, y, w, h = face\n",
    "    #         cv2.rectangle(coppied, (x,y), (x+w, y+h), (0,255,0), 3)\n",
    "    #         cv2.putText(coppied, f\"face: {weights[i]}\", (x,y), cv2.FONT_HERSHEY_PLAIN, 1, (255,255,255), 1)\n",
    "\n",
    "\n",
    "    if len(eyes):\n",
    "        for i, eye in enumerate(eyes):\n",
    "            x, y, w, h = eye\n",
    "            cv2.rectangle(coppied, (x,y), (x+w, y+h), (0,0,0), 2)\n",
    "            cv2.putText(coppied, f\"eye: {weights2[i]}\", (x,y), cv2.FONT_HERSHEY_PLAIN, 1, (255,255,255), 1)\n",
    "\n",
    "    cv2.imshow(\"Camera\", coppied)\n",
    "\n",
    "    if cv2.waitKey(1) == ord(\"q\"):\n",
    "        break\n",
    "\n",
    "cap.release()\n",
    "cv2.destroyAllWindows()"
   ]
  },
  {
   "cell_type": "code",
   "execution_count": 6,
   "metadata": {},
   "outputs": [
    {
     "name": "stdout",
     "output_type": "stream",
     "text": [
      "[([1, 2, 3, 4], 30), ([5, 6, 7, 8], 40), ([9, 10, 11, 12], 50)]\n"
     ]
    }
   ],
   "source": [
    "list_1 = [[1,2,3,4],[5,6,7,8],[9,10,11,12]]\n",
    "list_2 = [30,40,50]\n",
    "# 같은 인덱스 원소들끼리 묶어줌 --> 튜플로 새로운 리스트 생성성\n",
    "print(list(zip(list_1, list_2)))\n"
   ]
  },
  {
   "cell_type": "markdown",
   "metadata": {},
   "source": [
    "### 실습 2. 눈 영역에 귀여운 눈 덮어 씌우기"
   ]
  },
  {
   "cell_type": "code",
   "execution_count": null,
   "metadata": {},
   "outputs": [
    {
     "name": "stdout",
     "output_type": "stream",
     "text": [
      "[[366 247  60  60]\n",
      " [253 253  61  61]]\n",
      "[[366 247  60  60]\n",
      " [253 253  61  61]]\n"
     ]
    }
   ],
   "source": [
    "import numpy as np\n",
    "\n",
    "img = cv2.imread(\"images/karina.jpg\")\n",
    "left = cv2.imread(\"images/left_eye.jpg\")\n",
    "right = cv2.imread(\"images/right_eye.jpg\")\n",
    "eye_cascade = cv2.CascadeClassifier(\"cascade/haarcascade_eye.xml\")\n",
    "\n",
    "coppied = img.copy()\n",
    "gray = cv2.cvtColor(coppied, cv2.COLOR_BGR2GRAY)\n",
    "\n",
    "eyes = eye_cascade.detectMultiScale(gray, scaleFactor=1.1, minNeighbors=10)\n",
    "\n",
    "indices = np.argsort(eyes[:, 0])\n",
    "sorted_eyes = eyes[indices]\n",
    "\n",
    "if len(eyes):\n",
    "    for i, (x,y,w,h) in enumerate(eyes):\n",
    "        # cv2.rectangle(coppied, (x,y), (x+w, y+h), (200,0,255), 3)\n",
    "        print(eyes)\n",
    "        \n",
    "        if i % 2 == 0:\n",
    "            left_resize = cv2.resize(left, (w,h))\n",
    "            coppied[y:y+h, x:x+w] = left_resize\n",
    "        else:\n",
    "            right_resize = cv2.resize(right, (w,h))\n",
    "            coppied[y:y+eye.shape[0], x:x+eye.shape[1]] = right_resize\n",
    "\n",
    "cv2.imshow(\"img\", coppied)\n",
    "cv2.waitKey(0)\n",
    "cv2.destroyAllWindows()"
   ]
  },
  {
   "cell_type": "code",
   "execution_count": 36,
   "metadata": {},
   "outputs": [],
   "source": [
    "eye_cascade = cv2.CascadeClassifier(\"cascade/haarcascade_eye.xml\")\n",
    "\n",
    "cap = cv2.VideoCapture(\"images/girl.jpg\")\n",
    "\n",
    "while cap.isOpened():\n",
    "    ret, frame = cap.read()\n",
    "\n",
    "    if not ret:\n",
    "        break\n",
    "\n",
    "    coppied = frame.copy()\n",
    "    gray = cv2.cvtColor(coppied, cv2.COLOR_BGR2GRAY)\n",
    "\n",
    "    eyes = eye_cascade.detectMultiScale(gray, scaleFactor=1.1, minNeighbors=20)\n",
    "\n",
    "    faces = face_cascade.detectMultiScale(gray, scaleFactor=1.1, minNeighbors=5, minSize=(20,20))\n",
    "    eyes = eye_cascade.detectMultiScale(gray, scaleFactor=1.1, minNeighbors=5, minSize=(20,20))\n",
    "\n",
    "    if len(eyes):\n",
    "        for x, y, w, h in eyes:\n",
    "            cv2.rectangle(coppied, (x,y), (x+w, y+h), (255,255,0), 2)\n",
    "            \n",
    "    cv2.imshow(\"video\", coppied)\n",
    "\n",
    "    if cv2.waitKey(1) == ord(\"q\"): # 프레임 한개당 초\n",
    "        break\n",
    "\n",
    "cap.release()\n",
    "cv2.destroyAllWindows()"
   ]
  },
  {
   "cell_type": "code",
   "execution_count": 37,
   "metadata": {},
   "outputs": [],
   "source": [
    "import numpy as np\n",
    "\n",
    "eye_cascade = cv2.CascadeClassifier(\"cascade/haarcascade_eye.xml\")\n",
    "\n",
    "img = cv2.imread(\"images/aespa.jpg\")\n",
    "right_eye = cv2.imread(\"images/right_eye.jpg\")\n",
    "left_eye = cv2.imread(\"images/left_eye.jpg\")\n",
    "gray = cv2.cvtColor(img, cv2.COLOR_BGR2GRAY)\n",
    "\n",
    "eyes = eye_cascade.detectMultiScale(\n",
    "  gray, scaleFactor=1.1, minNeighbors=3, maxSize=(25,25)\n",
    ")\n",
    "indices = np.argsort(eyes[:, 0])\n",
    "sorted_eyes = eyes[indices]\n",
    "\n",
    "for i, (x,y,w,h) in enumerate(sorted_eyes):\n",
    "  eye = right_eye\n",
    "  if i % 2 == 0:\n",
    "    eye = left_eye\n",
    "  eye = cv2.resize(eye, (w,h))\n",
    "  img[y:y+eye.shape[0], x:x+eye.shape[1]] = eye\n",
    "\n",
    "cv2.imshow(\"img\", img)\n",
    "\n",
    "cv2.waitKey(0)\n",
    "cv2.destroyAllWindows()"
   ]
  },
  {
   "cell_type": "code",
   "execution_count": 50,
   "metadata": {},
   "outputs": [
    {
     "name": "stdout",
     "output_type": "stream",
     "text": [
      "Requirement already satisfied: ultralytics in c:\\users\\bjy80\\documents\\opencv-project\\my_cv\\lib\\site-packages (8.3.58)\n",
      "Requirement already satisfied: numpy>=1.23.0 in c:\\users\\bjy80\\documents\\opencv-project\\my_cv\\lib\\site-packages (from ultralytics) (2.2.1)\n",
      "Requirement already satisfied: matplotlib>=3.3.0 in c:\\users\\bjy80\\documents\\opencv-project\\my_cv\\lib\\site-packages (from ultralytics) (3.10.0)\n",
      "Requirement already satisfied: opencv-python>=4.6.0 in c:\\users\\bjy80\\documents\\opencv-project\\my_cv\\lib\\site-packages (from ultralytics) (4.10.0.84)\n",
      "Requirement already satisfied: pillow>=7.1.2 in c:\\users\\bjy80\\documents\\opencv-project\\my_cv\\lib\\site-packages (from ultralytics) (11.1.0)\n",
      "Requirement already satisfied: pyyaml>=5.3.1 in c:\\users\\bjy80\\documents\\opencv-project\\my_cv\\lib\\site-packages (from ultralytics) (6.0.2)\n",
      "Requirement already satisfied: requests>=2.23.0 in c:\\users\\bjy80\\documents\\opencv-project\\my_cv\\lib\\site-packages (from ultralytics) (2.32.3)\n",
      "Requirement already satisfied: scipy>=1.4.1 in c:\\users\\bjy80\\documents\\opencv-project\\my_cv\\lib\\site-packages (from ultralytics) (1.15.0)\n",
      "Requirement already satisfied: torch>=1.8.0 in c:\\users\\bjy80\\documents\\opencv-project\\my_cv\\lib\\site-packages (from ultralytics) (2.5.1)\n",
      "Requirement already satisfied: torchvision>=0.9.0 in c:\\users\\bjy80\\documents\\opencv-project\\my_cv\\lib\\site-packages (from ultralytics) (0.20.1)\n",
      "Requirement already satisfied: tqdm>=4.64.0 in c:\\users\\bjy80\\documents\\opencv-project\\my_cv\\lib\\site-packages (from ultralytics) (4.67.1)\n",
      "Requirement already satisfied: psutil in c:\\users\\bjy80\\documents\\opencv-project\\my_cv\\lib\\site-packages (from ultralytics) (6.1.1)\n",
      "Requirement already satisfied: py-cpuinfo in c:\\users\\bjy80\\documents\\opencv-project\\my_cv\\lib\\site-packages (from ultralytics) (9.0.0)\n",
      "Requirement already satisfied: pandas>=1.1.4 in c:\\users\\bjy80\\documents\\opencv-project\\my_cv\\lib\\site-packages (from ultralytics) (2.2.3)\n",
      "Requirement already satisfied: seaborn>=0.11.0 in c:\\users\\bjy80\\documents\\opencv-project\\my_cv\\lib\\site-packages (from ultralytics) (0.13.2)\n",
      "Requirement already satisfied: ultralytics-thop>=2.0.0 in c:\\users\\bjy80\\documents\\opencv-project\\my_cv\\lib\\site-packages (from ultralytics) (2.0.13)\n",
      "Requirement already satisfied: contourpy>=1.0.1 in c:\\users\\bjy80\\documents\\opencv-project\\my_cv\\lib\\site-packages (from matplotlib>=3.3.0->ultralytics) (1.3.1)\n",
      "Requirement already satisfied: cycler>=0.10 in c:\\users\\bjy80\\documents\\opencv-project\\my_cv\\lib\\site-packages (from matplotlib>=3.3.0->ultralytics) (0.12.1)\n",
      "Requirement already satisfied: fonttools>=4.22.0 in c:\\users\\bjy80\\documents\\opencv-project\\my_cv\\lib\\site-packages (from matplotlib>=3.3.0->ultralytics) (4.55.3)\n",
      "Requirement already satisfied: kiwisolver>=1.3.1 in c:\\users\\bjy80\\documents\\opencv-project\\my_cv\\lib\\site-packages (from matplotlib>=3.3.0->ultralytics) (1.4.8)\n",
      "Requirement already satisfied: packaging>=20.0 in c:\\users\\bjy80\\documents\\opencv-project\\my_cv\\lib\\site-packages (from matplotlib>=3.3.0->ultralytics) (24.2)\n",
      "Requirement already satisfied: pyparsing>=2.3.1 in c:\\users\\bjy80\\documents\\opencv-project\\my_cv\\lib\\site-packages (from matplotlib>=3.3.0->ultralytics) (3.2.1)\n",
      "Requirement already satisfied: python-dateutil>=2.7 in c:\\users\\bjy80\\documents\\opencv-project\\my_cv\\lib\\site-packages (from matplotlib>=3.3.0->ultralytics) (2.9.0.post0)\n",
      "Requirement already satisfied: pytz>=2020.1 in c:\\users\\bjy80\\documents\\opencv-project\\my_cv\\lib\\site-packages (from pandas>=1.1.4->ultralytics) (2024.2)\n",
      "Requirement already satisfied: tzdata>=2022.7 in c:\\users\\bjy80\\documents\\opencv-project\\my_cv\\lib\\site-packages (from pandas>=1.1.4->ultralytics) (2024.2)\n",
      "Requirement already satisfied: charset-normalizer<4,>=2 in c:\\users\\bjy80\\documents\\opencv-project\\my_cv\\lib\\site-packages (from requests>=2.23.0->ultralytics) (3.4.1)\n",
      "Requirement already satisfied: idna<4,>=2.5 in c:\\users\\bjy80\\documents\\opencv-project\\my_cv\\lib\\site-packages (from requests>=2.23.0->ultralytics) (3.10)\n",
      "Requirement already satisfied: urllib3<3,>=1.21.1 in c:\\users\\bjy80\\documents\\opencv-project\\my_cv\\lib\\site-packages (from requests>=2.23.0->ultralytics) (2.3.0)\n",
      "Requirement already satisfied: certifi>=2017.4.17 in c:\\users\\bjy80\\documents\\opencv-project\\my_cv\\lib\\site-packages (from requests>=2.23.0->ultralytics) (2024.12.14)\n",
      "Requirement already satisfied: filelock in c:\\users\\bjy80\\documents\\opencv-project\\my_cv\\lib\\site-packages (from torch>=1.8.0->ultralytics) (3.16.1)\n",
      "Requirement already satisfied: typing-extensions>=4.8.0 in c:\\users\\bjy80\\documents\\opencv-project\\my_cv\\lib\\site-packages (from torch>=1.8.0->ultralytics) (4.12.2)\n",
      "Requirement already satisfied: networkx in c:\\users\\bjy80\\documents\\opencv-project\\my_cv\\lib\\site-packages (from torch>=1.8.0->ultralytics) (3.4.2)\n",
      "Requirement already satisfied: jinja2 in c:\\users\\bjy80\\documents\\opencv-project\\my_cv\\lib\\site-packages (from torch>=1.8.0->ultralytics) (3.1.5)\n",
      "Requirement already satisfied: fsspec in c:\\users\\bjy80\\documents\\opencv-project\\my_cv\\lib\\site-packages (from torch>=1.8.0->ultralytics) (2024.12.0)\n",
      "Requirement already satisfied: setuptools in c:\\users\\bjy80\\documents\\opencv-project\\my_cv\\lib\\site-packages (from torch>=1.8.0->ultralytics) (75.7.0)\n",
      "Requirement already satisfied: sympy==1.13.1 in c:\\users\\bjy80\\documents\\opencv-project\\my_cv\\lib\\site-packages (from torch>=1.8.0->ultralytics) (1.13.1)\n",
      "Requirement already satisfied: mpmath<1.4,>=1.1.0 in c:\\users\\bjy80\\documents\\opencv-project\\my_cv\\lib\\site-packages (from sympy==1.13.1->torch>=1.8.0->ultralytics) (1.3.0)\n",
      "Requirement already satisfied: colorama in c:\\users\\bjy80\\documents\\opencv-project\\my_cv\\lib\\site-packages (from tqdm>=4.64.0->ultralytics) (0.4.6)\n",
      "Requirement already satisfied: six>=1.5 in c:\\users\\bjy80\\documents\\opencv-project\\my_cv\\lib\\site-packages (from python-dateutil>=2.7->matplotlib>=3.3.0->ultralytics) (1.17.0)\n",
      "Requirement already satisfied: MarkupSafe>=2.0 in c:\\users\\bjy80\\documents\\opencv-project\\my_cv\\lib\\site-packages (from jinja2->torch>=1.8.0->ultralytics) (3.0.2)\n",
      "Note: you may need to restart the kernel to use updated packages.\n"
     ]
    },
    {
     "name": "stderr",
     "output_type": "stream",
     "text": [
      "\n",
      "[notice] A new release of pip is available: 23.2.1 -> 24.3.1\n",
      "[notice] To update, run: python.exe -m pip install --upgrade pip\n"
     ]
    }
   ],
   "source": [
    "%pip install ultralytics"
   ]
  },
  {
   "cell_type": "code",
   "execution_count": 40,
   "metadata": {},
   "outputs": [],
   "source": [
    "from ultralytics import YOLO"
   ]
  }
 ],
 "metadata": {
  "kernelspec": {
   "display_name": "my_cv",
   "language": "python",
   "name": "python3"
  },
  "language_info": {
   "codemirror_mode": {
    "name": "ipython",
    "version": 3
   },
   "file_extension": ".py",
   "mimetype": "text/x-python",
   "name": "python",
   "nbconvert_exporter": "python",
   "pygments_lexer": "ipython3",
   "version": "3.12.0"
  }
 },
 "nbformat": 4,
 "nbformat_minor": 2
}
