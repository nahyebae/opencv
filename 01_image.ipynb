{
 "cells": [
  {
   "cell_type": "markdown",
   "metadata": {},
   "source": [
    "## 01. 이미지 입출력"
   ]
  },
  {
   "cell_type": "code",
   "execution_count": 10,
   "metadata": {},
   "outputs": [],
   "source": [
    "import cv2\n",
    "GOM_PATH = \"images/gom.jpg\"\n",
    "GOM_PNG_PATH = \"images/choonsik.png\""
   ]
  },
  {
   "cell_type": "code",
   "execution_count": null,
   "metadata": {},
   "outputs": [
    {
     "name": "stdout",
     "output_type": "stream",
     "text": [
      "-1\n"
     ]
    }
   ],
   "source": [
    "img = cv2.imread(\"images/gom.jpg\")\n",
    "cv2.imshow(\"Image\", img)\n",
    "key = cv2.waitKey(5000) # 무한대기 ms 단위, 키 입력x -> -1 반환\n",
    "print(key)\n",
    "cv2.destroyAllWindows()"
   ]
  },
  {
   "cell_type": "markdown",
   "metadata": {},
   "source": [
    "### 1-2. 이미지 불러오기 옵션\n",
    "- `cv2.IMREAD_COLOR` : 이미지를 컬러로, 기본 옵션, 투명배경 무시\n",
    "- `cv2.IMREAD_GRAYSCALE` : 이미지를 흑백으로\n",
    "- `cv2.IMREAD_UNCHANGED`: 이미지 컬러, 투명배경 인식\n",
    "이미지를 불러올 때 alpha 값을 같이 불러옴"
   ]
  },
  {
   "cell_type": "code",
   "execution_count": null,
   "metadata": {},
   "outputs": [],
   "source": [
    "img_default = cv2.imread(GOM_PATH, cv2.IMREAD_COLOR)\n",
    "img_gray = cv2.imread(GOM_PATH, cv2.IMREAD_GRAYSCALE)\n",
    "img_unchanged = cv2.imread(GOM_PATH, cv2.IMREAD_UNCHANGED)\n",
    "\n",
    "cv2.imshow(\"Image default\", img_default)\n",
    "cv2.imshow(\"Image gray\", img_gray)\n",
    "cv2.imshow(\"Image unchanged\", img_unchanged)\n",
    "\n",
    "cv2.waitKey(0)\n",
    "cv2.destroyAllWindows()"
   ]
  },
  {
   "cell_type": "markdown",
   "metadata": {},
   "source": [
    "### 1-3. 이미지 채널\n",
    "- 이미지 가로 세로 채널 출력"
   ]
  },
  {
   "cell_type": "code",
   "execution_count": 15,
   "metadata": {},
   "outputs": [
    {
     "name": "stdout",
     "output_type": "stream",
     "text": [
      "210 210 4\n"
     ]
    }
   ],
   "source": [
    "img_default = cv2.imread(GOM_PNG_PATH, cv2.IMREAD_COLOR)\n",
    "img_gray = cv2.imread(GOM_PNG_PATH, cv2.IMREAD_GRAYSCALE)\n",
    "img_unchanged = cv2.imread(GOM_PNG_PATH, cv2.IMREAD_UNCHANGED)\n",
    "# RGB + Alpha까지 4개의 채널을 불러옴\n",
    "# gray는 채널이 없음 흑백만 존재 세로와 가로 반환\n",
    "\n",
    "# img_gray.shape\n",
    "height, width, channel = img_unchanged.shape\n",
    "print(height, width, channel)\n",
    "cv2.imshow(\"img\", img_unchanged)\n",
    "cv2.waitKey(0)\n",
    "cv2.destroyAllWindows()\n"
   ]
  },
  {
   "cell_type": "code",
   "execution_count": 17,
   "metadata": {},
   "outputs": [],
   "source": [
    "img = cv2.imread(GOM_PATH)\n",
    "cv2.imshow(\"img\", img)\n",
    "key = cv2.waitKey(0)\n",
    "if key == ord(\"q\"):\n",
    "    cv2.destroyAllWindows()"
   ]
  },
  {
   "cell_type": "markdown",
   "metadata": {},
   "source": [
    "### 1-4. 이미지 쓰기\n",
    "- 불러온 이미지를 파일로 생성"
   ]
  },
  {
   "cell_type": "code",
   "execution_count": 27,
   "metadata": {},
   "outputs": [],
   "source": [
    "img_gray = cv2.imread(GOM_PATH,cv2.IMREAD_GRAYSCALE)\n",
    "cv2.imwrite(\"output/gray_gom.jpg\", img_gray)\n",
    "cv2.imshow(\"gray\",img_gray)\n",
    "cv2.waitKey(0)\n",
    "cv2.destroyAllWindows()"
   ]
  }
 ],
 "metadata": {
  "kernelspec": {
   "display_name": "my_cv",
   "language": "python",
   "name": "python3"
  },
  "language_info": {
   "codemirror_mode": {
    "name": "ipython",
    "version": 3
   },
   "file_extension": ".py",
   "mimetype": "text/x-python",
   "name": "python",
   "nbconvert_exporter": "python",
   "pygments_lexer": "ipython3",
   "version": "3.12.0"
  }
 },
 "nbformat": 4,
 "nbformat_minor": 2
}
