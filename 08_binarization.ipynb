{
 "cells": [
  {
   "cell_type": "markdown",
   "metadata": {},
   "source": [
    "### 08. 이진화\n",
    "- 임계값을 기준으로 색상을 흰색과 검은색으로 나누는 것"
   ]
  },
  {
   "cell_type": "code",
   "execution_count": 2,
   "metadata": {},
   "outputs": [],
   "source": [
    "import cv2\n",
    "import numpy as np\n",
    "\n",
    "BOOK = \"images/book.jpg\""
   ]
  },
  {
   "cell_type": "markdown",
   "metadata": {},
   "source": [
    "### 8-1. 기본 이진화\n",
    "- `ret, binary = cv2.threshold()`"
   ]
  },
  {
   "cell_type": "code",
   "execution_count": 8,
   "metadata": {},
   "outputs": [],
   "source": [
    "img = cv2.imread(BOOK, cv2.IMREAD_GRAYSCALE)\n",
    "\n",
    "ret, binary = cv2.threshold(img, 127, 255, cv2.THRESH_BINARY) # 임계값보다 크면 흰색 작으면 검은색\n",
    "\n",
    "cv2.imshow(\"img\", img)\n",
    "cv2.imshow(\"binary\", binary)\n",
    "\n",
    "cv2.waitKey(0)\n",
    "cv2.destroyAllWindows()\n"
   ]
  },
  {
   "cell_type": "code",
   "execution_count": 9,
   "metadata": {},
   "outputs": [],
   "source": [
    "# Affine 변환 사용\n",
    "img = cv2.imread(\"images/gom.jpg\")\n",
    "name = \"Trackbar\"\n",
    "trackbar_name = \"Rotation\"\n",
    "cv2.namedWindow(name)\n",
    "\n",
    "cv2.createTrackbar(\"Rotation\", name, 0, 360, lambda x:x)\n",
    "\n",
    "while True:\n",
    "    angle = cv2.getTrackbarPos(\"Rotation\", name) # 트랙바 값이 리턴\n",
    "    center = (img.shape[1]/2, img.shape[0]/2)\n",
    "    affine = cv2.getRotationMatrix2D(center, angle, 2)\n",
    "    dst = cv2.warpAffine(img, affine, (img.shape[1], img.shape[0]))\n",
    "\n",
    "    cv2.imshow(name, dst)\n",
    "\n",
    "    if cv2.waitKey(1) == ord(\"q\"):\n",
    "        break\n",
    "cv2.destroyAllWindows()"
   ]
  },
  {
   "cell_type": "markdown",
   "metadata": {},
   "source": [
    "### 실습 2-2. Threshold에 트랙바 적용"
   ]
  },
  {
   "cell_type": "code",
   "execution_count": null,
   "metadata": {},
   "outputs": [],
   "source": [
    "img = cv2.imread(\"images/gom.jpg\", cv2.IMREAD_GRAYSCALE)\n",
    "name = \"Trackbar\"\n",
    "trackbar_name = \"Treshold\"\n",
    "cv2.namedWindow(name)\n",
    "cv2.createTrackbar(trackbar_name, name, 127, 255, lambda x:x)\n",
    "\n",
    "while True:\n",
    "    threshold = cv2.getTrackbarPos(\"Treshold\", name)\n",
    "    ret, binary = cv2.threshold(img, threshold, 255, cv2.THRESH_BINARY)\n",
    "    \n",
    "    cv2.imshow(name, binary)\n",
    "\n",
    "    if cv2.waitKey(1) == ord(\"q\"):\n",
    "        break\n",
    "    \n",
    "cv2.destroyAllWindows()"
   ]
  },
  {
   "cell_type": "markdown",
   "metadata": {},
   "source": [
    "### 실습 2-1. 컬러 팔레트 만들기"
   ]
  },
  {
   "cell_type": "code",
   "execution_count": 14,
   "metadata": {},
   "outputs": [],
   "source": [
    "img = np.zeros((400, 600, 3), dtype = np.uint8)\n",
    "name = \"Palette\"\n",
    "switch_name = \"OFF:0\\nON\"\n",
    "cv2.namedWindow(name)\n",
    "\n",
    "cv2.createTrackbar(\"B\", name, 0, 255, lambda x:x)\n",
    "cv2.createTrackbar(\"G\", name, 0, 255, lambda x:x)\n",
    "cv2.createTrackbar(\"R\", name, 0, 255, lambda x:x)\n",
    "cv2.createTrackbar(switch_name, name, 0, 1, lambda x:x)\n",
    "\n",
    "while True:\n",
    "    b = cv2.getTrackbarPos(\"B\", name)\n",
    "    g = cv2.getTrackbarPos(\"G\", name)\n",
    "    r = cv2.getTrackbarPos(\"R\", name)\n",
    "    s = cv2.getTrackbarPos(switch_name, name)\n",
    "\n",
    "    if s == 1:\n",
    "        img[:] = (b, g, r)\n",
    "    else:\n",
    "        img[:] = 0\n",
    "\n",
    "    cv2.imshow(name, img)\n",
    "\n",
    "    if cv2.waitKey(1) == ord(\"q\"):\n",
    "        break\n",
    "\n",
    "cv2.destroyAllWindows()"
   ]
  },
  {
   "cell_type": "markdown",
   "metadata": {},
   "source": [
    "### 8-2. 적응형 이진화(Adaptive threshold)\n",
    "- 블록마다 다른 임계값을 적용"
   ]
  },
  {
   "cell_type": "code",
   "execution_count": 15,
   "metadata": {},
   "outputs": [],
   "source": [
    "img = cv2.imread(BOOK, cv2.IMREAD_GRAYSCALE)\n",
    "name = \"Adaptive\"\n",
    "cv2.namedWindow(name)\n",
    "\n",
    "cv2.createTrackbar(\"block_size\", name, 25, 100, lambda x:x) # 블록사이즈 1보다 큰 홀수만 가능\n",
    "cv2.createTrackbar(\"C\", name, 1, 10, lambda x:x) # 일반적으로 양수를 사용\n",
    "\n",
    "while True:\n",
    "    block_size = cv2.getTrackbarPos(\"block_size\", name)\n",
    "    C = cv2.getTrackbarPos(\"C\", name)\n",
    "\n",
    "    if block_size <= 1:\n",
    "        block_size = 3\n",
    "    \n",
    "    if block_size % 2 == 0:\n",
    "        block_size += 1\n",
    "\n",
    "    binary = cv2.adaptiveThreshold(img, 255, cv2.ADAPTIVE_THRESH_MEAN_C, cv2.THRESH_BINARY, block_size, C) # c값이 커지면 흰색 영역 커짐/ 보정해주는 역할 임계값에서 빼주는 값\n",
    "    cv2.imshow(name, binary)\n",
    "    if cv2.waitKey(1) == ord(\"q\"):\n",
    "        break\n",
    "\n",
    "cv2.destroyAllWindows()"
   ]
  },
  {
   "cell_type": "markdown",
   "metadata": {},
   "source": [
    "### 8-3. 오츠 알고리즘\n",
    "- 최적의 Threshold를 찾는 알고리즘"
   ]
  },
  {
   "cell_type": "code",
   "execution_count": 4,
   "metadata": {},
   "outputs": [
    {
     "name": "stdout",
     "output_type": "stream",
     "text": [
      "127.0 138.0\n"
     ]
    }
   ],
   "source": [
    "img = cv2.imread(BOOK, cv2.IMREAD_GRAYSCALE)\n",
    "\n",
    "ret_1, binary = cv2.threshold(img, 127, 255, cv2.THRESH_BINARY)\n",
    "ret_2, otsu = cv2.threshold(img, -1, 255, cv2.THRESH_BINARY | cv2.THRESH_OTSU)\n",
    "print(ret_1, ret_2)\n",
    "\n",
    "cv2.imshow(\"img\", img)\n",
    "cv2.imshow(\"binary\", binary)\n",
    "cv2.imshow(\"otsu\", otsu)\n",
    "\n",
    "cv2.waitKey(0)\n",
    "cv2.destroyAllWindows()"
   ]
  }
 ],
 "metadata": {
  "kernelspec": {
   "display_name": "my_cv",
   "language": "python",
   "name": "python3"
  },
  "language_info": {
   "codemirror_mode": {
    "name": "ipython",
    "version": 3
   },
   "file_extension": ".py",
   "mimetype": "text/x-python",
   "name": "python",
   "nbconvert_exporter": "python",
   "pygments_lexer": "ipython3",
   "version": "3.12.0"
  }
 },
 "nbformat": 4,
 "nbformat_minor": 2
}
