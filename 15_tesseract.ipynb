{
 "cells": [
  {
   "cell_type": "markdown",
   "metadata": {},
   "source": [
    "### 15. Tesseract - OCR"
   ]
  },
  {
   "cell_type": "code",
   "execution_count": 7,
   "metadata": {},
   "outputs": [
    {
     "name": "stdout",
     "output_type": "stream",
     "text": [
      "\n"
     ]
    }
   ],
   "source": [
    "from pytesseract import pytesseract as pyt\n",
    "import cv2\n",
    "\n",
    "pyt.tesseract_cmd = r\"C:/Program Files/Tesseract-OCR/tesseract.exe\"\n",
    "img = cv2.imread(\"images/stop.png\", cv2.IMREAD_GRAYSCALE)\n",
    "ret, binary = cv2.threshold(img, -1, 255, cv2.THRESH_BINARY | cv2.THRESH_OTSU)\n",
    "\n",
    "# text_1 = pyt.image_to_string(img, lang = \"kor+eng\")\n",
    "text_2 = pyt.image_to_string(binary, lang = \"kor+eng\")\n",
    "\n",
    "# print(text_1)\n",
    "print(text_2)"
   ]
  },
  {
   "cell_type": "markdown",
   "metadata": {},
   "source": [
    "### 실습 4. 이미지에서 글자 인식"
   ]
  },
  {
   "cell_type": "code",
   "execution_count": 24,
   "metadata": {},
   "outputs": [
    {
     "name": "stdout",
     "output_type": "stream",
     "text": [
      "(225, 225)\n",
      "정지\n",
      "STOP\n",
      "\n"
     ]
    }
   ],
   "source": [
    "import cv2\n",
    "import numpy as np\n",
    "\n",
    "img = cv2.imread(\"images/stop.png\", cv2.IMREAD_GRAYSCALE)\n",
    "print(img.shape)\n",
    "\n",
    "width, height = 160, 150\n",
    "src = np.array([[29,41], [194,41], [194,184], [29,184]], dtype = np.float32)\n",
    "dst = np.array([[0,0], [width, 0], [width, height], [0, height]], dtype = np.float32)\n",
    "\n",
    "mat = cv2.getPerspectiveTransform(src, dst)\n",
    "\n",
    "result = cv2.warpPerspective(img, mat, (width, height))\n",
    "cv2.imshow(\"perspective\", result)\n",
    "\n",
    "text = pyt.image_to_string(result, lang = \"kor+eng\")\n",
    "print(text)\n",
    "\n",
    "cv2.waitKey(0)\n",
    "cv2.destroyAllWindows()"
   ]
  },
  {
   "cell_type": "code",
   "execution_count": null,
   "metadata": {},
   "outputs": [
    {
     "name": "stdout",
     "output_type": "stream",
     "text": [
      "정지\n",
      "STOP\n",
      "\n"
     ]
    }
   ],
   "source": [
    "import cv2\n",
    "import numpy as np\n",
    "from pytesseract import pytesseract as pyt\n",
    "\n",
    "pyt.tesseract_cmd = r\"C:/Program Files/Tesseract-OCR/tesseract.exe\"\n",
    "img = cv2.imread(\"images/stop.png\")\n",
    "point_list = []\n",
    "\n",
    "def show_result():\n",
    "    width, height = 300,300\n",
    "    src = np.array(point_list, dtype = np.float32)\n",
    "    dst = np.array([[0,0], [width, 0], [width, height], [0, height]], dtype = np.float32)\n",
    "    mat = cv2.getPerspectiveTransform(src, dst)\n",
    "    # 잘라낸 이미지\n",
    "    result = cv2.warpPerspective(img, mat, (width, height))\n",
    "    cv2.imshow(\"Result\", result)\n",
    "\n",
    "    # 그레이스케일로 변환\n",
    "    gray = cv2.cvtColor(result, cv2.COLOR_BGR2GRAY)\n",
    "    _, binary = cv2.threshold(gray, -1, 255, cv2.THRESH_BINARY | cv2.THRESH_OTSU)\n",
    "    text = pyt.image_to_string(binary, lang = \"kor+eng\")\n",
    "    print(text)\n",
    "    cv2.imshow(\"result\", result)\n",
    "    \n",
    "\n",
    "drawing = False\n",
    "def onMouse(event, x, y, flags, _):\n",
    "    global drawing \n",
    "    coppied = img.copy()\n",
    "\n",
    "    if event == cv2.EVENT_LBUTTONDOWN:\n",
    "        drawing = True \n",
    "        point_list.append((x,y))\n",
    "\n",
    "    if drawing:\n",
    "        COLOR = (255,0,0)\n",
    "        prev_point = None\n",
    "        for point in point_list:\n",
    "            cv2.circle(coppied, point, 5, COLOR, cv2.FILLED)\n",
    "            if prev_point:\n",
    "                cv2.line(coppied, prev_point, point, COLOR, 3)\n",
    "            prev_point = point\n",
    "\n",
    "        next_point = (x,y)\n",
    "\n",
    "        if len(point_list) == 4:\n",
    "            next_point = point_list[0]\n",
    "            show_result()\n",
    "            drawing = False # 마우스 움직이면 여러번 출력됨 -> 마우스 이벤트가 발생해도 한 번만 출력되게 함\n",
    "        cv2.line(coppied, point_list[-1], next_point, COLOR, 3)\n",
    "\n",
    "    cv2.imshow(name, coppied)\n",
    "\n",
    "name = \"Scanner\"\n",
    "cv2.namedWindow(name)\n",
    "cv2.setMouseCallback(name, onMouse)\n",
    "cv2.imshow(name, img)\n",
    "cv2.waitKey(0)\n",
    "cv2.destroyAllWindows()"
   ]
  },
  {
   "cell_type": "code",
   "execution_count": 30,
   "metadata": {},
   "outputs": [
    {
     "name": "stdout",
     "output_type": "stream",
     "text": [
      "정지\n",
      "STOP\n",
      "\n"
     ]
    }
   ],
   "source": [
    "# 실습 4 답안 코드\n",
    "\n",
    "import cv2\n",
    "import numpy as np\n",
    "from pytesseract import pytesseract as pyt\n",
    "\n",
    "img = cv2.imread(\"images/stop.png\")\n",
    "point_list = []\n",
    "pyt.tesseract_cmd = r\"C:\\Program Files\\Tesseract-OCR\\tesseract.exe\"\n",
    "\n",
    "# 최종 결과를 출력하는 함수입니다\n",
    "def show_result():\n",
    "  width, height = 300, 300\n",
    "  src = np.array(point_list, dtype=np.float32)\n",
    "  target = np.array([[0,0], [width, 0], [width, height], [0, height]], dtype=np.float32)\n",
    "  mat = cv2.getPerspectiveTransform(src, target)\n",
    "  result = cv2.warpPerspective(img, mat, (width, height))\n",
    "  \n",
    "  gray = cv2.cvtColor(result, cv2.COLOR_BGR2GRAY)\n",
    "  _, binary = cv2.threshold(gray, -1, 255, cv2.THRESH_BINARY | cv2.THRESH_OTSU)\n",
    "  text = pyt.image_to_string(binary, lang=\"kor+eng\")\n",
    "  print(text)\n",
    "  \n",
    "  cv2.imshow(\"result\", result)\n",
    "\n",
    "# 마우스 이벤트와 함께 실행되는 콜백함수입니다.\n",
    "drawing = False\n",
    "def on_mouse(event, x, y, flags, _):\n",
    "  global drawing\n",
    "  coppied = img.copy()\n",
    "  if event == cv2.EVENT_LBUTTONDOWN:\n",
    "    drawing = True\n",
    "    point_list.append((x,y))\n",
    "\n",
    "  if drawing:\n",
    "    COLOR = (0,255,255)\n",
    "    prev_point = None\n",
    "    for point in point_list:\n",
    "      cv2.circle(coppied, point, 10, COLOR, cv2.FILLED)\n",
    "      if prev_point:\n",
    "        cv2.line(coppied, prev_point, point, COLOR, 5)\n",
    "      prev_point = point\n",
    "\n",
    "    next_point = (x,y)\n",
    "    if len(point_list) == 4:\n",
    "      next_point = point_list[0]\n",
    "      show_result()\n",
    "      drawing = False\n",
    "    cv2.line(coppied, point_list[-1], next_point, COLOR, 5)\n",
    "\n",
    "  cv2.imshow(name, coppied)\n",
    "\n",
    "# 기본적인 코드 실행입니다.\n",
    "name = \"Scanner\"\n",
    "cv2.namedWindow(name)\n",
    "cv2.setMouseCallback(name, on_mouse)\n",
    "cv2.imshow(name, img)\n",
    "cv2.waitKey(0)\n",
    "cv2.destroyAllWindows()"
   ]
  }
 ],
 "metadata": {
  "kernelspec": {
   "display_name": "my_cv",
   "language": "python",
   "name": "python3"
  },
  "language_info": {
   "codemirror_mode": {
    "name": "ipython",
    "version": 3
   },
   "file_extension": ".py",
   "mimetype": "text/x-python",
   "name": "python",
   "nbconvert_exporter": "python",
   "pygments_lexer": "ipython3",
   "version": "3.12.0"
  }
 },
 "nbformat": 4,
 "nbformat_minor": 2
}
